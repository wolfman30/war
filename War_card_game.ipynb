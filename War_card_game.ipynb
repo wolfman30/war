{
 "cells": [
  {
   "cell_type": "code",
   "execution_count": 42,
   "metadata": {},
   "outputs": [],
   "source": [
    "from random import shuffle #using this to shuffle the cards\n",
    "\n",
    "suits = ('Hearts', 'Spades', 'Diamonds', 'Clubs') #four suits of the cards\n",
    "\n",
    "#this is a tuple consisting of all the ranks of the cards\n",
    "ranks = ('Two', 'Three', 'Four', 'Five', 'Six', 'Seven', 'Eight', 'Nine', 'Ten', 'Jack', 'Queen', 'King', 'Ace')\n",
    "\n",
    "#Values of each card in a dictionary associating the card rank (as a key) with an integer value\n",
    "vals = {'Two':2, 'Three': 3, 'Four': 4, 'Five': 5, 'Six': 6, 'Seven': 7, \n",
    "             'Eight': 8, 'Nine': 9, 'Ten': 10, 'Jack': 11, 'Queen': 12, 'King': 13, 'Ace': 14}"
   ]
  },
  {
   "cell_type": "code",
   "execution_count": 43,
   "metadata": {},
   "outputs": [],
   "source": [
    "class Card:\n",
    "    \n",
    "    def __init__(self, suit, rank):\n",
    "        '''\n",
    "        This initializes the suit and rank of the card. The ranks include the queen, jack, 2, ace, etc. \n",
    "        The suit includes the four types of hearts, diamonds, clubs, and spades. \n",
    "        '''\n",
    "        self.suit = suit\n",
    "        self.rank = rank\n",
    "        self.value = vals[rank] \n",
    "    \n",
    "    def __str__(self):\n",
    "        '''\n",
    "        This enables the class to output a string when printed\n",
    "        '''\n",
    "        return f\"{self.rank} of {self.suit}\""
   ]
  },
  {
   "cell_type": "code",
   "execution_count": 44,
   "metadata": {},
   "outputs": [
    {
     "name": "stdout",
     "output_type": "stream",
     "text": [
      "Queen of Diamonds\n"
     ]
    }
   ],
   "source": [
    "card = Card('Diamonds', 'Queen')\n",
    "print(card)"
   ]
  },
  {
   "cell_type": "code",
   "execution_count": 45,
   "metadata": {},
   "outputs": [
    {
     "data": {
      "text/plain": [
       "'Diamonds'"
      ]
     },
     "execution_count": 45,
     "metadata": {},
     "output_type": "execute_result"
    }
   ],
   "source": [
    "card.suit"
   ]
  },
  {
   "cell_type": "code",
   "execution_count": 46,
   "metadata": {},
   "outputs": [
    {
     "data": {
      "text/plain": [
       "'Queen'"
      ]
     },
     "execution_count": 46,
     "metadata": {},
     "output_type": "execute_result"
    }
   ],
   "source": [
    "card.rank"
   ]
  },
  {
   "cell_type": "code",
   "execution_count": 47,
   "metadata": {},
   "outputs": [
    {
     "data": {
      "text/plain": [
       "12"
      ]
     },
     "execution_count": 47,
     "metadata": {},
     "output_type": "execute_result"
    }
   ],
   "source": [
    "card.value #I did not have to provide value as a formal parameter since vals is defined as a global variable"
   ]
  },
  {
   "cell_type": "code",
   "execution_count": 69,
   "metadata": {},
   "outputs": [],
   "source": [
    "class Deck:\n",
    "    \n",
    "    def __init__(self):\n",
    "        \n",
    "        self.all_cards = []\n",
    "        \n",
    "        for suit in suits:\n",
    "            for rank in ranks:  #this will create all 13 ranks associated with each suit for 52 cards\n",
    "                \n",
    "                created_card = Card(suit, rank)  #creates a unique Card object\n",
    "                self.all_cards.append(created_card) #adds each unique instance of Card() into the empty list\n",
    "        \n",
    "        "
   ]
  },
  {
   "cell_type": "code",
   "execution_count": 73,
   "metadata": {},
   "outputs": [
    {
     "name": "stdout",
     "output_type": "stream",
     "text": [
      "Two of Hearts\n",
      "Three of Hearts\n",
      "52\n"
     ]
    }
   ],
   "source": [
    "deck1 = Deck()\n",
    "deck1.all_cards\n",
    "\n",
    "first_card = deck1.all_cards[0]\n",
    "second_card = deck1.all_cards[1]\n",
    "print(first_card)\n",
    "print(second_card)\n",
    "print(len(deck1.all_cards))\n"
   ]
  },
  {
   "cell_type": "code",
   "execution_count": 56,
   "metadata": {},
   "outputs": [],
   "source": [
    "class Player:\n",
    "    pass"
   ]
  },
  {
   "cell_type": "code",
   "execution_count": 4,
   "metadata": {},
   "outputs": [],
   "source": [
    "class Game_logic:\n",
    "    pass"
   ]
  },
  {
   "cell_type": "code",
   "execution_count": null,
   "metadata": {},
   "outputs": [],
   "source": []
  }
 ],
 "metadata": {
  "kernelspec": {
   "display_name": "Python 3",
   "language": "python",
   "name": "python3"
  },
  "language_info": {
   "codemirror_mode": {
    "name": "ipython",
    "version": 3
   },
   "file_extension": ".py",
   "mimetype": "text/x-python",
   "name": "python",
   "nbconvert_exporter": "python",
   "pygments_lexer": "ipython3",
   "version": "3.7.1"
  }
 },
 "nbformat": 4,
 "nbformat_minor": 2
}
