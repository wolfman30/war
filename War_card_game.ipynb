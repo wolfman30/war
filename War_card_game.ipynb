{
 "cells": [
  {
   "cell_type": "code",
   "execution_count": 3,
   "metadata": {},
   "outputs": [],
   "source": [
    "from random import shuffle #using this to shuffle the cards\n",
    "\n",
    "suits = ('Hearts', 'Spades', 'Diamonds', 'Clubs') #four suits of the cards\n",
    "\n",
    "#this is a tuple consisting of all the ranks of the cards\n",
    "ranks = ('Two', 'Three', 'Four', 'Five', 'Six', 'Seven', 'Eight', 'Nine', 'Ten', 'Jack', 'Queen', 'King', 'Ace')\n",
    "\n",
    "#Values of each card in a dictionary associating the card rank (as a key) with an integer value\n",
    "vals = {'Two':2, 'Three': 3, 'Four': 4, 'Five': 5, 'Six': 6, 'Seven': 7, \n",
    "             'Eight': 8, 'Nine': 9, 'Ten': 10, 'Jack': 11, 'Queen': 12, 'King': 13, 'Ace': 14}"
   ]
  },
  {
   "cell_type": "code",
   "execution_count": 4,
   "metadata": {},
   "outputs": [],
   "source": [
    "class Card:\n",
    "    \n",
    "    def __init__(self, suit, rank):\n",
    "        '''\n",
    "        This initializes the suit and rank of the card. The ranks include the queen, jack, 2, ace, etc. \n",
    "        The suit includes the four types of hearts, diamonds, clubs, and spades. \n",
    "        '''\n",
    "        self.suit = suit\n",
    "        self.rank = rank\n",
    "        self.value = vals[rank] \n",
    "    \n",
    "    def __str__(self):\n",
    "        '''\n",
    "        This enables the class to output a string when printed\n",
    "        '''\n",
    "        return f\"{self.rank} of {self.suit}\"\n"
   ]
  },
  {
   "cell_type": "code",
   "execution_count": 5,
   "metadata": {},
   "outputs": [
    {
     "name": "stdout",
     "output_type": "stream",
     "text": [
      "Queen of Diamonds\n"
     ]
    }
   ],
   "source": [
    "card = Card('Diamonds', 'Queen')\n",
    "print(card)"
   ]
  },
  {
   "cell_type": "code",
   "execution_count": 6,
   "metadata": {},
   "outputs": [
    {
     "data": {
      "text/plain": [
       "'Diamonds'"
      ]
     },
     "execution_count": 6,
     "metadata": {},
     "output_type": "execute_result"
    }
   ],
   "source": [
    "card.suit"
   ]
  },
  {
   "cell_type": "code",
   "execution_count": 7,
   "metadata": {},
   "outputs": [
    {
     "data": {
      "text/plain": [
       "'Queen'"
      ]
     },
     "execution_count": 7,
     "metadata": {},
     "output_type": "execute_result"
    }
   ],
   "source": [
    "card.rank"
   ]
  },
  {
   "cell_type": "code",
   "execution_count": 8,
   "metadata": {},
   "outputs": [
    {
     "data": {
      "text/plain": [
       "12"
      ]
     },
     "execution_count": 8,
     "metadata": {},
     "output_type": "execute_result"
    }
   ],
   "source": [
    "card.value #I did not have to provide value as a formal parameter since vals is defined as a global variable"
   ]
  },
  {
   "cell_type": "code",
   "execution_count": 9,
   "metadata": {},
   "outputs": [],
   "source": [
    "class Deck:\n",
    "    \n",
    "    def __init__(self):\n",
    "        \n",
    "        self.all_cards = []\n",
    "        \n",
    "        for suit in suits:\n",
    "            for rank in ranks:  #this will create all 13 ranks associated with each suit for 52 cards\n",
    "                \n",
    "                created_card = Card(suit, rank)  #creates a unique Card object\n",
    "                self.all_cards.append(created_card) #adds each unique instance of Card() into the empty list\n",
    "    \n",
    "    def shuffle(self):\n",
    "        \n",
    "        shuffle(self.all_cards)\n",
    "        \n",
    "    def deal_one(self):\n",
    "        return self.all_cards.pop()\n",
    "        "
   ]
  },
  {
   "cell_type": "code",
   "execution_count": 10,
   "metadata": {},
   "outputs": [
    {
     "name": "stdout",
     "output_type": "stream",
     "text": [
      "<class 'list'>\n"
     ]
    }
   ],
   "source": [
    "print(type([]))"
   ]
  },
  {
   "cell_type": "code",
   "execution_count": 11,
   "metadata": {},
   "outputs": [
    {
     "name": "stdout",
     "output_type": "stream",
     "text": [
      "Two of Hearts\n",
      "Three of Hearts\n",
      "52\n",
      "\n",
      "Here is the original ordered list of card objects: \n",
      "\n",
      "Two of Hearts\n",
      "Three of Hearts\n",
      "Four of Hearts\n",
      "Five of Hearts\n",
      "Six of Hearts\n",
      "Seven of Hearts\n",
      "Eight of Hearts\n",
      "Nine of Hearts\n",
      "Ten of Hearts\n",
      "Jack of Hearts\n",
      "Queen of Hearts\n",
      "King of Hearts\n",
      "Ace of Hearts\n",
      "Two of Spades\n",
      "Three of Spades\n",
      "Four of Spades\n",
      "Five of Spades\n",
      "Six of Spades\n",
      "Seven of Spades\n",
      "Eight of Spades\n",
      "Nine of Spades\n",
      "Ten of Spades\n",
      "Jack of Spades\n",
      "Queen of Spades\n",
      "King of Spades\n",
      "Ace of Spades\n",
      "Two of Diamonds\n",
      "Three of Diamonds\n",
      "Four of Diamonds\n",
      "Five of Diamonds\n",
      "Six of Diamonds\n",
      "Seven of Diamonds\n",
      "Eight of Diamonds\n",
      "Nine of Diamonds\n",
      "Ten of Diamonds\n",
      "Jack of Diamonds\n",
      "Queen of Diamonds\n",
      "King of Diamonds\n",
      "Ace of Diamonds\n",
      "Two of Clubs\n",
      "Three of Clubs\n",
      "Four of Clubs\n",
      "Five of Clubs\n",
      "Six of Clubs\n",
      "Seven of Clubs\n",
      "Eight of Clubs\n",
      "Nine of Clubs\n",
      "Ten of Clubs\n",
      "Jack of Clubs\n",
      "Queen of Clubs\n",
      "King of Clubs\n",
      "Ace of Clubs\n",
      "\n",
      "Here is a shuffled version of the card objects: \n",
      "\n",
      "Nine of Diamonds\n",
      "Three of Diamonds\n",
      "Seven of Hearts\n",
      "Two of Spades\n",
      "Four of Hearts\n",
      "Jack of Spades\n",
      "Queen of Hearts\n",
      "Three of Spades\n",
      "Nine of Spades\n",
      "King of Spades\n",
      "Seven of Clubs\n",
      "Three of Hearts\n",
      "Six of Clubs\n",
      "Ten of Spades\n",
      "King of Clubs\n",
      "Five of Diamonds\n",
      "Six of Hearts\n",
      "Nine of Clubs\n",
      "Four of Spades\n",
      "Nine of Hearts\n",
      "Two of Clubs\n",
      "Ace of Diamonds\n",
      "Ace of Clubs\n",
      "Six of Spades\n",
      "Two of Diamonds\n",
      "Five of Hearts\n",
      "Queen of Spades\n",
      "Five of Spades\n",
      "Ten of Diamonds\n",
      "Jack of Clubs\n",
      "Queen of Clubs\n",
      "King of Diamonds\n",
      "Eight of Hearts\n",
      "Three of Clubs\n",
      "Eight of Spades\n",
      "Queen of Diamonds\n",
      "Ten of Clubs\n",
      "Six of Diamonds\n",
      "King of Hearts\n",
      "Ace of Spades\n",
      "Ace of Hearts\n",
      "Seven of Spades\n",
      "Four of Diamonds\n",
      "Four of Clubs\n",
      "Seven of Diamonds\n",
      "Jack of Diamonds\n",
      "Two of Hearts\n",
      "Jack of Hearts\n",
      "Eight of Diamonds\n",
      "Eight of Clubs\n",
      "Ten of Hearts\n",
      "Five of Clubs\n"
     ]
    }
   ],
   "source": [
    "deck1 = Deck()\n",
    "\n",
    "first_card = deck1.all_cards[0]\n",
    "second_card = deck1.all_cards[1]\n",
    "print(first_card)\n",
    "print(second_card)\n",
    "print(len(deck1.all_cards))\n",
    "print(\"\")\n",
    "print(\"Here is the original ordered list of card objects: \\n\")\n",
    "for card in deck1.all_cards:\n",
    "    print(card)\n",
    "\n",
    "deck1.shuffle()\n",
    "print(\"\\nHere is a shuffled version of the card objects: \\n\")\n",
    "for card in deck1.all_cards:\n",
    "    print(card)"
   ]
  },
  {
   "cell_type": "code",
   "execution_count": 12,
   "metadata": {},
   "outputs": [
    {
     "name": "stdout",
     "output_type": "stream",
     "text": [
      "Five of Clubs\n"
     ]
    }
   ],
   "source": [
    "a_card = deck1.deal_one()\n",
    "print(a_card)"
   ]
  },
  {
   "cell_type": "code",
   "execution_count": 13,
   "metadata": {},
   "outputs": [],
   "source": [
    "class Player:\n",
    "    \n",
    "    def __init__(self, name):\n",
    "        self.name = name\n",
    "        self.hand = []\n",
    "        \n",
    "    def add_card(self, new_cards):\n",
    "        \n",
    "        if type(new_cards) == list:\n",
    "            return self.hand.extend(new_cards)\n",
    "        else:\n",
    "            return self.hand.append(new_cards)\n",
    "    \n",
    "    def remove_card(self):\n",
    "        \n",
    "        return self.hand.pop(0)\n",
    "        \n",
    "    \n",
    "    def __str__(self):\n",
    "        return f\"Player {self.name} has {len(self.hand)} cards\" \n",
    "    \n",
    "    "
   ]
  },
  {
   "cell_type": "code",
   "execution_count": 14,
   "metadata": {},
   "outputs": [
    {
     "name": "stdout",
     "output_type": "stream",
     "text": [
      "Player Alex has 0 cards\n"
     ]
    }
   ],
   "source": [
    "player1 = Player(\"Alex\")\n",
    "print(player1)"
   ]
  },
  {
   "cell_type": "code",
   "execution_count": 15,
   "metadata": {},
   "outputs": [
    {
     "name": "stdout",
     "output_type": "stream",
     "text": [
      "Player Alex has 1 cards\n"
     ]
    }
   ],
   "source": [
    "player1.add_card(a_card)\n",
    "print(player1)"
   ]
  },
  {
   "cell_type": "code",
   "execution_count": 16,
   "metadata": {},
   "outputs": [
    {
     "name": "stdout",
     "output_type": "stream",
     "text": [
      "Player Alex has 4 cards\n"
     ]
    }
   ],
   "source": [
    "player1.add_card([a_card, a_card, a_card])\n",
    "print(player1)"
   ]
  },
  {
   "cell_type": "code",
   "execution_count": 17,
   "metadata": {},
   "outputs": [
    {
     "name": "stdout",
     "output_type": "stream",
     "text": [
      "Player Alex has 3 cards\n"
     ]
    }
   ],
   "source": [
    "player1.remove_card()\n",
    "print(player1)"
   ]
  },
  {
   "cell_type": "code",
   "execution_count": 18,
   "metadata": {},
   "outputs": [],
   "source": [
    "#class Game_logic:\n",
    "    #pass"
   ]
  },
  {
   "cell_type": "code",
   "execution_count": 22,
   "metadata": {},
   "outputs": [
    {
     "name": "stdout",
     "output_type": "stream",
     "text": [
      "Player one has 26 cards\n",
      "Player two has 26 cards\n",
      "Five of Spades\n",
      "Three of Diamonds\n"
     ]
    }
   ],
   "source": [
    "#START GAME LOGIC\n",
    "#GAME SETUP\n",
    "\n",
    "player1 = Player('one') #defines player 1\n",
    "player2 = Player('two') #defines player 2\n",
    "\n",
    "game_active = True #Boolean value to determine if the game is active or stops\n",
    "\n",
    "deck = Deck() #creates the instance of a complete deck\n",
    "deck.shuffle() #shuffles the deck\n",
    "\n",
    "player1.add_card(deck.all_cards[:26]) #adds half of shuffled deck to player 1 hand\n",
    "player2.add_card(deck.all_cards[26:]) #adds half of shuffled deck to player 2 hand\n",
    "\n",
    "print(player1)\n",
    "print(player2)\n",
    "\n",
    "print(player1.hand[0])\n",
    "print(player2.hand[0])"
   ]
  },
  {
   "cell_type": "code",
   "execution_count": 23,
   "metadata": {},
   "outputs": [
    {
     "name": "stdout",
     "output_type": "stream",
     "text": [
      "Round 1:\n",
      "\n",
      "Round 2:\n",
      "\n",
      "Round 3:\n",
      "\n",
      "War!\n",
      "Round 4:\n",
      "\n",
      "Round 5:\n",
      "\n",
      "Round 6:\n",
      "\n",
      "Round 7:\n",
      "\n",
      "Round 8:\n",
      "\n",
      "Round 9:\n",
      "\n",
      "War!\n",
      "Round 10:\n",
      "\n",
      "Round 11:\n",
      "\n",
      "War!\n",
      "War!\n",
      "Round 12:\n",
      "\n",
      "Round 13:\n",
      "\n",
      "Player 1 has zero cards! Player 2 wins!\n"
     ]
    }
   ],
   "source": [
    "round_num = 0\n",
    "\n",
    "while game_active:\n",
    "    \n",
    "    round_num += 1\n",
    "    print(f\"Round {round_num}:\\n\")\n",
    "\n",
    "    if len(player1.hand) == 0:\n",
    "        print('Player 1 has zero cards! Player 2 wins!')\n",
    "        game_over = False\n",
    "        break\n",
    "\n",
    "    if len(player2.hand) == 0:\n",
    "        print('Player 2 has zero cards! Player 1 wins!')\n",
    "        game_over = False\n",
    "        break\n",
    "        \n",
    "    #cards at play each round\n",
    "    \n",
    "    p1_cardsinPlay = [] \n",
    "    p1_cardsinPlay.append(player1.remove_card()) #adds cards to play for player 1\n",
    "    \n",
    "    p2_cardsinPlay = []\n",
    "    p2_cardsinPlay.append(player2.remove_card()) #adds cards to play for player 2\n",
    "    \n",
    "    comparing = True #Boolean value to determine if there is a tie activating the at-war mode\n",
    "            \n",
    "    while comparing:\n",
    "        \n",
    "        if p1_cardsinPlay[-1].value > p2_cardsinPlay[-1].value:\n",
    "            player1.add_card(p1_cardsinPlay)\n",
    "            player1.add_card(p2_cardsinPlay)\n",
    "            comparing = False\n",
    "        \n",
    "        elif p2_cardsinPlay[-1].value > p1_cardsinPlay[-1].value:\n",
    "            player2.add_card(p1_cardsinPlay)\n",
    "            player2.add_card(p2_cardsinPlay)\n",
    "            comparing = False\n",
    "            \n",
    "        else:\n",
    "            print(\"War!\")\n",
    "            \n",
    "            if len(player1.hand) < 5:\n",
    "                print('Player 1 does not have enough cards for war.')\n",
    "                print('Player 2 wins!')\n",
    "                game_active = False\n",
    "                break\n",
    "                \n",
    "            elif len(player2.hand) < 5:\n",
    "                print('Player 2 does not have enough cards for war.')\n",
    "                print('Player 1 wins!')\n",
    "                game_active = False\n",
    "                break\n",
    "                \n",
    "            else:\n",
    "                for num in range(5):\n",
    "                    p1_cardsinPlay.append(player1.remove_card())\n",
    "                    p2_cardsinPlay.append(player2.remove_card())"
   ]
  },
  {
   "cell_type": "code",
   "execution_count": null,
   "metadata": {},
   "outputs": [],
   "source": []
  }
 ],
 "metadata": {
  "kernelspec": {
   "display_name": "Python 3",
   "language": "python",
   "name": "python3"
  },
  "language_info": {
   "codemirror_mode": {
    "name": "ipython",
    "version": 3
   },
   "file_extension": ".py",
   "mimetype": "text/x-python",
   "name": "python",
   "nbconvert_exporter": "python",
   "pygments_lexer": "ipython3",
   "version": "3.7.1"
  }
 },
 "nbformat": 4,
 "nbformat_minor": 2
}
