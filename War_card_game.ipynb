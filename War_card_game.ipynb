{
 "cells": [
  {
   "cell_type": "code",
   "execution_count": 42,
   "metadata": {},
   "outputs": [],
   "source": [
    "from random import shuffle #using this to shuffle the cards\n",
    "\n",
    "suits = ('Hearts', 'Spades', 'Diamonds', 'Clubs') #four suits of the cards\n",
    "\n",
    "#this is a tuple consisting of all the ranks of the cards\n",
    "ranks = ('Two', 'Three', 'Four', 'Five', 'Six', 'Seven', 'Eight', 'Nine', 'Ten', 'Jack', 'Queen', 'King', 'Ace')\n",
    "\n",
    "#Values of each card in a dictionary associating the card rank (as a key) with an integer value\n",
    "vals = {'Two':2, 'Three': 3, 'Four': 4, 'Five': 5, 'Six': 6, 'Seven': 7, \n",
    "             'Eight': 8, 'Nine': 9, 'Ten': 10, 'Jack': 11, 'Queen': 12, 'King': 13, 'Ace': 14}"
   ]
  },
  {
   "cell_type": "code",
   "execution_count": 43,
   "metadata": {},
   "outputs": [],
   "source": [
    "class Card:\n",
    "    \n",
    "    def __init__(self, suit, rank):\n",
    "        '''\n",
    "        This initializes the suit and rank of the card. The ranks include the queen, jack, 2, ace, etc. \n",
    "        The suit includes the four types of hearts, diamonds, clubs, and spades. \n",
    "        '''\n",
    "        self.suit = suit\n",
    "        self.rank = rank\n",
    "        self.value = vals[rank] \n",
    "    \n",
    "    def __str__(self):\n",
    "        '''\n",
    "        This enables the class to output a string when printed\n",
    "        '''\n",
    "        return f\"{self.rank} of {self.suit}\""
   ]
  },
  {
   "cell_type": "code",
   "execution_count": 44,
   "metadata": {},
   "outputs": [
    {
     "name": "stdout",
     "output_type": "stream",
     "text": [
      "Queen of Diamonds\n"
     ]
    }
   ],
   "source": [
    "card = Card('Diamonds', 'Queen')\n",
    "print(card)"
   ]
  },
  {
   "cell_type": "code",
   "execution_count": 45,
   "metadata": {},
   "outputs": [
    {
     "data": {
      "text/plain": [
       "'Diamonds'"
      ]
     },
     "execution_count": 45,
     "metadata": {},
     "output_type": "execute_result"
    }
   ],
   "source": [
    "card.suit"
   ]
  },
  {
   "cell_type": "code",
   "execution_count": 46,
   "metadata": {},
   "outputs": [
    {
     "data": {
      "text/plain": [
       "'Queen'"
      ]
     },
     "execution_count": 46,
     "metadata": {},
     "output_type": "execute_result"
    }
   ],
   "source": [
    "card.rank"
   ]
  },
  {
   "cell_type": "code",
   "execution_count": 47,
   "metadata": {},
   "outputs": [
    {
     "data": {
      "text/plain": [
       "12"
      ]
     },
     "execution_count": 47,
     "metadata": {},
     "output_type": "execute_result"
    }
   ],
   "source": [
    "card.value #I did not have to provide value as a formal parameter since vals is defined as a global variable"
   ]
  },
  {
   "cell_type": "code",
   "execution_count": 77,
   "metadata": {},
   "outputs": [],
   "source": [
    "class Deck:\n",
    "    \n",
    "    def __init__(self):\n",
    "        \n",
    "        self.all_cards = []\n",
    "        \n",
    "        for suit in suits:\n",
    "            for rank in ranks:  #this will create all 13 ranks associated with each suit for 52 cards\n",
    "                \n",
    "                created_card = Card(suit, rank)  #creates a unique Card object\n",
    "                self.all_cards.append(created_card) #adds each unique instance of Card() into the empty list\n",
    "    \n",
    "    def shuffle(self):\n",
    "        \n",
    "        shuffle(self.all_cards)\n",
    "        \n",
    "        "
   ]
  },
  {
   "cell_type": "code",
   "execution_count": 89,
   "metadata": {},
   "outputs": [
    {
     "name": "stdout",
     "output_type": "stream",
     "text": [
      "Two of Hearts\n",
      "Three of Hearts\n",
      "52\n",
      "\n",
      "Here is the original ordered list of card objects: \n",
      "\n",
      "Two of Hearts\n",
      "Three of Hearts\n",
      "Four of Hearts\n",
      "Five of Hearts\n",
      "Six of Hearts\n",
      "Seven of Hearts\n",
      "Eight of Hearts\n",
      "Nine of Hearts\n",
      "Ten of Hearts\n",
      "Jack of Hearts\n",
      "Queen of Hearts\n",
      "King of Hearts\n",
      "Ace of Hearts\n",
      "Two of Spades\n",
      "Three of Spades\n",
      "Four of Spades\n",
      "Five of Spades\n",
      "Six of Spades\n",
      "Seven of Spades\n",
      "Eight of Spades\n",
      "Nine of Spades\n",
      "Ten of Spades\n",
      "Jack of Spades\n",
      "Queen of Spades\n",
      "King of Spades\n",
      "Ace of Spades\n",
      "Two of Diamonds\n",
      "Three of Diamonds\n",
      "Four of Diamonds\n",
      "Five of Diamonds\n",
      "Six of Diamonds\n",
      "Seven of Diamonds\n",
      "Eight of Diamonds\n",
      "Nine of Diamonds\n",
      "Ten of Diamonds\n",
      "Jack of Diamonds\n",
      "Queen of Diamonds\n",
      "King of Diamonds\n",
      "Ace of Diamonds\n",
      "Two of Clubs\n",
      "Three of Clubs\n",
      "Four of Clubs\n",
      "Five of Clubs\n",
      "Six of Clubs\n",
      "Seven of Clubs\n",
      "Eight of Clubs\n",
      "Nine of Clubs\n",
      "Ten of Clubs\n",
      "Jack of Clubs\n",
      "Queen of Clubs\n",
      "King of Clubs\n",
      "Ace of Clubs\n",
      "\n",
      "Here is a shuffled version of the card objects: \n",
      "\n",
      "Four of Diamonds\n",
      "Queen of Spades\n",
      "Six of Hearts\n",
      "Two of Clubs\n",
      "Ace of Spades\n",
      "Ten of Spades\n",
      "Ten of Diamonds\n",
      "Six of Clubs\n",
      "Six of Spades\n",
      "Eight of Hearts\n",
      "Ten of Hearts\n",
      "Five of Spades\n",
      "Queen of Diamonds\n",
      "Two of Diamonds\n",
      "Nine of Diamonds\n",
      "Ace of Clubs\n",
      "Five of Diamonds\n",
      "King of Clubs\n",
      "Seven of Hearts\n",
      "Nine of Spades\n",
      "King of Spades\n",
      "Five of Clubs\n",
      "Four of Hearts\n",
      "Three of Hearts\n",
      "Six of Diamonds\n",
      "Jack of Clubs\n",
      "Jack of Hearts\n",
      "Seven of Clubs\n",
      "King of Diamonds\n",
      "Eight of Clubs\n",
      "Eight of Spades\n",
      "Two of Hearts\n",
      "Two of Spades\n",
      "Four of Clubs\n",
      "Jack of Diamonds\n",
      "Seven of Diamonds\n",
      "Queen of Hearts\n",
      "Eight of Diamonds\n",
      "Nine of Hearts\n",
      "Jack of Spades\n",
      "Seven of Spades\n",
      "Three of Diamonds\n",
      "Ten of Clubs\n",
      "Three of Clubs\n",
      "Five of Hearts\n",
      "Nine of Clubs\n",
      "Three of Spades\n",
      "Ace of Hearts\n",
      "Queen of Clubs\n",
      "Ace of Diamonds\n",
      "King of Hearts\n",
      "Four of Spades\n"
     ]
    }
   ],
   "source": [
    "deck1 = Deck()\n",
    "deck1.all_cards\n",
    "\n",
    "first_card = deck1.all_cards[0]\n",
    "second_card = deck1.all_cards[1]\n",
    "print(first_card)\n",
    "print(second_card)\n",
    "print(len(deck1.all_cards))\n",
    "print(\"\")\n",
    "print(\"Here is the original ordered list of card objects: \\n\")\n",
    "for card in deck1.all_cards:\n",
    "    print(card)\n",
    "\n",
    "shuffled_list = Deck.shuffle(deck1)\n",
    "print(\"\\nHere is a shuffled version of the card objects: \\n\")\n",
    "for card in shuffled_list:\n",
    "    print(card)"
   ]
  },
  {
   "cell_type": "code",
   "execution_count": 56,
   "metadata": {},
   "outputs": [],
   "source": [
    "class Player:\n",
    "    pass"
   ]
  },
  {
   "cell_type": "code",
   "execution_count": 4,
   "metadata": {},
   "outputs": [],
   "source": [
    "class Game_logic:\n",
    "    pass"
   ]
  },
  {
   "cell_type": "code",
   "execution_count": null,
   "metadata": {},
   "outputs": [],
   "source": []
  }
 ],
 "metadata": {
  "kernelspec": {
   "display_name": "Python 3",
   "language": "python",
   "name": "python3"
  },
  "language_info": {
   "codemirror_mode": {
    "name": "ipython",
    "version": 3
   },
   "file_extension": ".py",
   "mimetype": "text/x-python",
   "name": "python",
   "nbconvert_exporter": "python",
   "pygments_lexer": "ipython3",
   "version": "3.7.1"
  }
 },
 "nbformat": 4,
 "nbformat_minor": 2
}
